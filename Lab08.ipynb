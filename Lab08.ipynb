{
  "nbformat": 4,
  "nbformat_minor": 0,
  "metadata": {
    "colab": {
      "provenance": [],
      "toc_visible": true,
      "authorship_tag": "ABX9TyMVXDKzZ7ENHZ4PXxcWCzc/",
      "include_colab_link": true
    },
    "kernelspec": {
      "name": "python3",
      "display_name": "Python 3"
    },
    "language_info": {
      "name": "python"
    }
  },
  "cells": [
    {
      "cell_type": "markdown",
      "metadata": {
        "id": "view-in-github",
        "colab_type": "text"
      },
      "source": [
        "<a href=\"https://colab.research.google.com/github/chamals3n4/Discrete-Mathematics-Labs/blob/main/Lab08.ipynb\" target=\"_parent\"><img src=\"https://colab.research.google.com/assets/colab-badge.svg\" alt=\"Open In Colab\"/></a>"
      ]
    },
    {
      "cell_type": "code",
      "source": [
        "import networkx as nx\n",
        "import matplotlib.pyplot as plt\n",
        "\n",
        "G = nx.DiGraph()\n",
        "edges = [('A', 'B'), ('B', 'C'), ('C', 'D'), ('C', 'E'), ('E', 'D'), ('C', 'B')]\n",
        "G.add_edges_from(edges)\n",
        "\n",
        "print(\"Adjacency List:\")\n",
        "for node in G.nodes():\n",
        "    print(f\"{node}: {list(G.adj[node])}\")\n",
        "\n",
        "print(\"\\nAdjacency Matrix:\")\n",
        "print(nx.adjacency_matrix(G).todense())\n",
        "\n",
        "nx.draw(G, with_labels=True, node_color='lightblue', arrows=True)\n",
        "plt.title(\"Airline Route Map\")\n",
        "plt.show()\n"
      ],
      "metadata": {
        "colab": {
          "base_uri": "https://localhost:8080/",
          "height": 773
        },
        "id": "oSJnQWNX5hK-",
        "outputId": "41565fec-6719-495e-868c-5fd7d0545180"
      },
      "execution_count": null,
      "outputs": [
        {
          "output_type": "stream",
          "name": "stdout",
          "text": [
            "Adjacency List:\n",
            "A: ['B']\n",
            "B: ['C']\n",
            "C: ['D', 'E', 'B']\n",
            "D: []\n",
            "E: ['D']\n",
            "\n",
            "Adjacency Matrix:\n",
            "[[0 1 0 0 0]\n",
            " [0 0 1 0 0]\n",
            " [0 1 0 1 1]\n",
            " [0 0 0 0 0]\n",
            " [0 0 0 1 0]]\n"
          ]
        },
        {
          "output_type": "display_data",
          "data": {
            "text/plain": [
              "<Figure size 640x480 with 1 Axes>"
            ],
            "image/png": "[encoded data removed]"
          },
          "metadata": {}
        }
      ]
    },
    {
      "cell_type": "code",
      "source": [
        "print(\"In-Degree and Out-Degree:\")\n",
        "for node in G.nodes():\n",
        "    print(f\"{node} - In-degree: {G.in_degree(node)}, Out-degree: {G.out_degree(node)}\")\n",
        "\n",
        "print(\"\\nSelf-loops:\")\n",
        "self_loops = list(nx.selfloop_edges(G))\n",
        "print(\"None\" if not self_loops else self_loops)"
      ],
      "metadata": {
        "colab": {
          "base_uri": "https://localhost:8080/"
        },
        "id": "jYgunFgr5jfG",
        "outputId": "b29ac7e3-d4de-49e3-82b4-36b558216bfb"
      },
      "execution_count": null,
      "outputs": [
        {
          "output_type": "stream",
          "name": "stdout",
          "text": [
            "In-Degree and Out-Degree:\n",
            "A - In-degree: 0, Out-degree: 1\n",
            "B - In-degree: 2, Out-degree: 1\n",
            "C - In-degree: 1, Out-degree: 3\n",
            "D - In-degree: 2, Out-degree: 0\n",
            "E - In-degree: 1, Out-degree: 1\n",
            "\n",
            "Self-loops:\n",
            "None\n"
          ]
        }
      ]
    },
    {
      "cell_type": "code",
      "source": [
        "print(\"Is D reachable from A?\", nx.has_path(G, 'A', 'D'))\n",
        "\n",
        "print(\"\\nAll Simple Paths from A to D:\")\n",
        "for path in nx.all_simple_paths(G, source='A', target='D'):\n",
        "    print(path)\n",
        "\n",
        "print(\"\\nCycles in the Graph:\")\n",
        "cycles = list(nx.simple_cycles(G))\n",
        "print(\"No cycles\" if not cycles else cycles)"
      ],
      "metadata": {
        "colab": {
          "base_uri": "https://localhost:8080/"
        },
        "id": "vETlc1vU507l",
        "outputId": "f0573b94-5117-4b1a-dfe6-543f55bb470e"
      },
      "execution_count": null,
      "outputs": [
        {
          "output_type": "stream",
          "name": "stdout",
          "text": [
            "Is D reachable from A? True\n",
            "\n",
            "All Simple Paths from A to D:\n",
            "['A', 'B', 'C', 'D']\n",
            "['A', 'B', 'C', 'E', 'D']\n",
            "\n",
            "Cycles in the Graph:\n",
            "[['C', 'B']]\n"
          ]
        }
      ]
    },
    {
      "cell_type": "code",
      "source": [
        "from collections import deque\n",
        "\n",
        "def bfs(graph, start):\n",
        "    visited = set()\n",
        "    queue = deque([start])\n",
        "    bfs_tree = {start: []}\n",
        "    parent = {start: None}\n",
        "\n",
        "    while queue:\n",
        "        node = queue.popleft()\n",
        "        visited.add(node)\n",
        "        for neighbor in graph[node]:\n",
        "            if neighbor not in visited and neighbor not in queue:\n",
        "                queue.append(neighbor)\n",
        "                parent[neighbor] = node\n",
        "                if parent[neighbor] not in bfs_tree:\n",
        "                    bfs_tree[parent[neighbor]] = []\n",
        "                bfs_tree[parent[neighbor]].append(neighbor)\n",
        "    return visited, bfs_tree\n",
        "\n",
        "visited, bfs_tree = bfs(G.adj, 'A')\n",
        "print(\"BFS Visit Order:\", visited)\n",
        "print(\"BFS Tree:\", bfs_tree)"
      ],
      "metadata": {
        "colab": {
          "base_uri": "https://localhost:8080/"
        },
        "id": "bFr61fR66Djw",
        "outputId": "101c51bc-ece6-4da3-e3be-a0e8e91d9ceb"
      },
      "execution_count": null,
      "outputs": [
        {
          "output_type": "stream",
          "name": "stdout",
          "text": [
            "BFS Visit Order: {'C', 'A', 'B', 'E', 'D'}\n",
            "BFS Tree: {'A': ['B'], 'B': ['C'], 'C': ['D', 'E']}\n"
          ]
        }
      ]
    },
    {
      "cell_type": "code",
      "source": [
        "time = 0\n",
        "discovery = {}\n",
        "finishing = {}\n",
        "visited = set()\n",
        "\n",
        "def dfs(graph, node):\n",
        "    global time\n",
        "    visited.add(node)\n",
        "    time += 1\n",
        "    discovery[node] = time\n",
        "    for neighbor in graph[node]:\n",
        "        if neighbor not in visited:\n",
        "            dfs(graph, neighbor)\n",
        "    time += 1\n",
        "    finishing[node] = time\n",
        "\n",
        "for node in G.nodes():\n",
        "    if node not in visited:\n",
        "        dfs(G.adj, node)\n",
        "\n",
        "print(\"Discovery Times:\", discovery)\n",
        "print(\"Finishing Times:\", finishing)"
      ],
      "metadata": {
        "colab": {
          "base_uri": "https://localhost:8080/"
        },
        "id": "B7V353Tr6Mkm",
        "outputId": "6e6c29ae-b730-4461-dbee-e1a5a77ddef8"
      },
      "execution_count": null,
      "outputs": [
        {
          "output_type": "stream",
          "name": "stdout",
          "text": [
            "Discovery Times: {'A': 1, 'B': 2, 'C': 3, 'D': 4, 'E': 6}\n",
            "Finishing Times: {'D': 5, 'E': 7, 'C': 8, 'B': 9, 'A': 10}\n"
          ]
        }
      ]
    },
    {
      "cell_type": "code",
      "source": [
        "def heapify(arr, n, i):\n",
        "    largest = i\n",
        "    l = 2 * i + 1\n",
        "    r = 2 * i + 2\n",
        "    if l < n and arr[l] > arr[largest]:\n",
        "        largest = l\n",
        "    if r < n and arr[r] > arr[largest]:\n",
        "        largest = r\n",
        "    if largest != i:\n",
        "        arr[i], arr[largest] = arr[largest], arr[i]\n",
        "        heapify(arr, n, largest)\n",
        "\n",
        "GPA_list = [4.0, 3.8, 2.5, 3.2, 3.9, 2.0]\n",
        "heapify(GPA_list, len(GPA_list), 1)\n",
        "print(\"Heap after HEAPIFY from index 1:\", GPA_list)"
      ],
      "metadata": {
        "colab": {
          "base_uri": "https://localhost:8080/"
        },
        "id": "ITaXpbTI6PZ0",
        "outputId": "a12f8385-a4aa-4bdb-abd1-c25f5138b8dc"
      },
      "execution_count": null,
      "outputs": [
        {
          "output_type": "stream",
          "name": "stdout",
          "text": [
            "Heap after HEAPIFY from index 1: [4.0, 3.9, 2.5, 3.2, 3.8, 2.0]\n"
          ]
        }
      ]
    },
    {
      "cell_type": "code",
      "source": [
        "def is_full_binary_tree(tree):\n",
        "    n = len(tree)\n",
        "    for i in range(n):\n",
        "        left = 2 * i + 1\n",
        "        right = 2 * i + 2\n",
        "        if left < n and tree[left] is not None or right < n and tree[right] is not None:\n",
        "            if not (left < n and tree[left] is not None and right < n and tree[right] is not None):\n",
        "                return False\n",
        "    return True\n",
        "\n",
        "tree = [1, 2, 3, 4, 5, None, None]\n",
        "print(\"Is full binary tree?\", is_full_binary_tree(tree))"
      ],
      "metadata": {
        "colab": {
          "base_uri": "https://localhost:8080/"
        },
        "id": "onv0_Fyp6UYO",
        "outputId": "00fe48f6-245b-4c60-d313-d5c7925af658"
      },
      "execution_count": null,
      "outputs": [
        {
          "output_type": "stream",
          "name": "stdout",
          "text": [
            "Is full binary tree? True\n"
          ]
        }
      ]
    },
    {
      "cell_type": "code",
      "source": [
        "import heapq\n",
        "\n",
        "GPA_list = [-4.0, -3.0, -2.5, -3.2, -3.9, -2.0]\n",
        "heapq.heapify(GPA_list)\n",
        "GPA_list = [-x for x in GPA_list]\n",
        "print(\"Max-heapified GPA list:\", GPA_list)"
      ],
      "metadata": {
        "colab": {
          "base_uri": "https://localhost:8080/"
        },
        "id": "qVLWHoPm6XA2",
        "outputId": "91cc52c5-6389-4e37-f08e-593298899714"
      },
      "execution_count": null,
      "outputs": [
        {
          "output_type": "stream",
          "name": "stdout",
          "text": [
            "Max-heapified GPA list: [4.0, 3.9, 2.5, 3.2, 3.0, 2.0]\n"
          ]
        }
      ]
    },
    {
      "cell_type": "code",
      "source": [
        "import networkx as nx\n",
        "\n",
        "G = nx.Graph()\n",
        "G.add_edge('A', 'B', weight=2)\n",
        "G.add_edge('A', 'D', weight=6)\n",
        "G.add_edge('B', 'C', weight=3)\n",
        "G.add_edge('B', 'D', weight=8)\n",
        "G.add_edge('C', 'D', weight=5)\n",
        "\n",
        "\n",
        "mst = nx.minimum_spanning_tree(G, algorithm='prim')\n",
        "print(\"Minimum Spanning Tree edges:\")\n",
        "for u, v, data in mst.edges(data=True):\n",
        "    print(f\"{u} - {v} \\t weight: {data['weight']}\")\n",
        "\n",
        "\n",
        "total_weight = sum(data['weight'] for u, v, data in mst.edges(data=True))\n",
        "print(\"Total weight of MST:\", total_weight)"
      ],
      "metadata": {
        "colab": {
          "base_uri": "https://localhost:8080/"
        },
        "id": "MZQuAiHN6f9z",
        "outputId": "cbafc41e-4ba5-4727-db71-f48bebe74a13"
      },
      "execution_count": null,
      "outputs": [
        {
          "output_type": "stream",
          "name": "stdout",
          "text": [
            "Minimum Spanning Tree edges:\n",
            "A - B \t weight: 2\n",
            "B - C \t weight: 3\n",
            "D - C \t weight: 5\n",
            "Total weight of MST: 10\n"
          ]
        }
      ]
    },
    {
      "cell_type": "code",
      "source": [
        "import networkx as nx\n",
        "\n",
        "DG = nx.DiGraph()\n",
        "edges = [('Sol', 'Alpha'), ('Alpha', 'Vega'), ('Vega', 'Sirius'), ('Vega', 'Betelgeuse'), ('Betelgeuse', 'Sirius'), ('Vega', 'Alpha')]\n",
        "DG.add_edges_from(edges)\n",
        "\n",
        "print(\"Adjacency List:\")\n",
        "for node in DG.nodes():\n",
        "    print(f\"{node}: {list(DG.adj[node])}\")\n",
        "\n",
        "print(\"\\nAdjacency Matrix:\")\n",
        "print(nx.adjacency_matrix(DG).todense())\n",
        "\n",
        "nx.draw(DG, with_labels=True, node_color='lightblue', arrows=True)\n",
        "plt.title(\"Star Map\")\n",
        "plt.show()"
      ],
      "metadata": {
        "colab": {
          "base_uri": "https://localhost:8080/",
          "height": 773
        },
        "id": "b__8-W1L6s_H",
        "outputId": "0a4f9d6e-1938-43b0-88a2-ecc2d5d811b7"
      },
      "execution_count": null,
      "outputs": [
        {
          "output_type": "stream",
          "name": "stdout",
          "text": [
            "Adjacency List:\n",
            "Sol: ['Alpha']\n",
            "Alpha: ['Vega']\n",
            "Vega: ['Sirius', 'Betelgeuse', 'Alpha']\n",
            "Sirius: []\n",
            "Betelgeuse: ['Sirius']\n",
            "\n",
            "Adjacency Matrix:\n",
            "[[0 1 0 0 0]\n",
            " [0 0 1 0 0]\n",
            " [0 1 0 1 1]\n",
            " [0 0 0 0 0]\n",
            " [0 0 0 1 0]]\n"
          ]
        },
        {
          "output_type": "display_data",
          "data": {
            "text/plain": [
              "<Figure size 640x480 with 1 Axes>"
            ],
            "image/png": "[encoded data removed]"
          },
          "metadata": {}
        }
      ]
    },
    {
      "cell_type": "code",
      "source": [
        "print(\"In-Degree and Out-Degree:\")\n",
        "for node in DG.nodes():\n",
        "    print(f\"{node} - In-degree: {DG.in_degree(node)}, Out-degree: {DG.out_degree(node)}\")\n",
        "\n",
        "print(\"\\nSelf-loops:\")\n",
        "self_loops = list(nx.selfloop_edges(DG))\n",
        "print(\"None\" if not self_loops else self_loops)"
      ],
      "metadata": {
        "colab": {
          "base_uri": "https://localhost:8080/"
        },
        "id": "2ZkEnZMa6_Hw",
        "outputId": "cedd896e-56c7-4d74-af2d-569f128c3246"
      },
      "execution_count": null,
      "outputs": [
        {
          "output_type": "stream",
          "name": "stdout",
          "text": [
            "In-Degree and Out-Degree:\n",
            "Sol - In-degree: 0, Out-degree: 1\n",
            "Alpha - In-degree: 2, Out-degree: 1\n",
            "Vega - In-degree: 1, Out-degree: 3\n",
            "Sirius - In-degree: 2, Out-degree: 0\n",
            "Betelgeuse - In-degree: 1, Out-degree: 1\n",
            "\n",
            "Self-loops:\n",
            "None\n"
          ]
        }
      ]
    },
    {
      "cell_type": "code",
      "source": [
        "print(\"Is Sirius reachable from Sol?\", nx.has_path(DG, 'Sol', 'Sirius'))\n",
        "\n",
        "print(\"\\nAll Simple Paths from Sol to Sirius:\")\n",
        "for path in nx.all_simple_paths(DG, source='Sol', target='Sirius'):\n",
        "    print(path)\n",
        "\n",
        "print(\"\\nCycles in the Network:\")\n",
        "cycles = list(nx.simple_cycles(DG))\n",
        "print(\"No cycles\" if not cycles else cycles)"
      ],
      "metadata": {
        "colab": {
          "base_uri": "https://localhost:8080/"
        },
        "id": "OBz4gH_27KcO",
        "outputId": "451940f3-a459-43bf-dc82-e325000d5bc4"
      },
      "execution_count": null,
      "outputs": [
        {
          "output_type": "stream",
          "name": "stdout",
          "text": [
            "Is Sirius reachable from Sol? True\n",
            "\n",
            "All Simple Paths from Sol to Sirius:\n",
            "['Sol', 'Alpha', 'Vega', 'Sirius']\n",
            "['Sol', 'Alpha', 'Vega', 'Betelgeuse', 'Sirius']\n",
            "\n",
            "Cycles in the Network:\n",
            "[['Alpha', 'Vega']]\n"
          ]
        }
      ]
    },
    {
      "cell_type": "code",
      "source": [
        "from collections import deque\n",
        "\n",
        "def bfs(graph, start):\n",
        "    visited = set()\n",
        "    queue = deque([start])\n",
        "    bfs_tree = {start: []}\n",
        "    parent = {start: None}\n",
        "\n",
        "    while queue:\n",
        "        node = queue.popleft()\n",
        "        visited.add(node)\n",
        "        for neighbor in graph[node]:\n",
        "            if neighbor not in visited and neighbor not in queue:\n",
        "                queue.append(neighbor)\n",
        "                parent[neighbor] = node\n",
        "                if parent[neighbor] not in bfs_tree:\n",
        "                    bfs_tree[parent[neighbor]] = []\n",
        "                bfs_tree[parent[neighbor]].append(neighbor)\n",
        "    return visited, bfs_tree\n",
        "\n",
        "visited, bfs_tree = bfs(DG.adj, 'Sol')\n",
        "print(\"BFS Visit Order:\", visited)\n",
        "print(\"BFS Tree:\", bfs_tree)"
      ],
      "metadata": {
        "colab": {
          "base_uri": "https://localhost:8080/"
        },
        "id": "JIg5Hyzo7RRm",
        "outputId": "5370f33f-2031-4420-ba37-ce121d476168"
      },
      "execution_count": null,
      "outputs": [
        {
          "output_type": "stream",
          "name": "stdout",
          "text": [
            "BFS Visit Order: {'Sirius', 'Alpha', 'Vega', 'Sol', 'Betelgeuse'}\n",
            "BFS Tree: {'Sol': ['Alpha'], 'Alpha': ['Vega'], 'Vega': ['Sirius', 'Betelgeuse']}\n"
          ]
        }
      ]
    },
    {
      "cell_type": "code",
      "source": [
        "time = 0\n",
        "discovery = {}\n",
        "finishing = {}\n",
        "visited = set()\n",
        "\n",
        "def dfs(graph, node):\n",
        "    global time\n",
        "    visited.add(node)\n",
        "    time += 1\n",
        "    discovery[node] = time\n",
        "    for neighbor in graph[node]:\n",
        "        if neighbor not in visited:\n",
        "            dfs(graph, neighbor)\n",
        "    time += 1\n",
        "    finishing[node] = time\n",
        "\n",
        "for node in DG.nodes():\n",
        "    if node not in visited:\n",
        "        dfs(DG.adj, node)\n",
        "\n",
        "print(\"Discovery Times:\", discovery)\n",
        "print(\"Finishing Times:\", finishing)"
      ],
      "metadata": {
        "colab": {
          "base_uri": "https://localhost:8080/"
        },
        "id": "myeHgTb77Vr2",
        "outputId": "b320a867-f7ea-474f-a82f-44110b7f98ac"
      },
      "execution_count": null,
      "outputs": [
        {
          "output_type": "stream",
          "name": "stdout",
          "text": [
            "Discovery Times: {'Sol': 1, 'Alpha': 2, 'Vega': 3, 'Sirius': 4, 'Betelgeuse': 6}\n",
            "Finishing Times: {'Sirius': 5, 'Betelgeuse': 7, 'Vega': 8, 'Alpha': 9, 'Sol': 10}\n"
          ]
        }
      ]
    },
    {
      "cell_type": "code",
      "source": [
        "def heapify(arr, n, i):\n",
        "    largest = i\n",
        "    l = 2 * i + 1\n",
        "    r = 2 * i + 2\n",
        "    if l < n and arr[l] > arr[largest]:\n",
        "        largest = l\n",
        "    if r < n and arr[r] > arr[largest]:\n",
        "        largest = r\n",
        "    if largest != i:\n",
        "        arr[i], arr[largest] = arr[largest], arr[i]\n",
        "        heapify(arr, n, largest)\n",
        "\n",
        "GPA_list = [4.0, 3.8, 2.5, 3.2, 3.9, 2.0]\n",
        "heapify(GPA_list, len(GPA_list), 1)\n",
        "print(\"Heap after HEAPIFY from index 1:\", GPA_list)"
      ],
      "metadata": {
        "colab": {
          "base_uri": "https://localhost:8080/"
        },
        "id": "sTEAtWSs7kAG",
        "outputId": "ca42d1e9-c96b-438f-c6bf-43cdb501eeb3"
      },
      "execution_count": null,
      "outputs": [
        {
          "output_type": "stream",
          "name": "stdout",
          "text": [
            "Heap after HEAPIFY from index 1: [4.0, 3.9, 2.5, 3.2, 3.8, 2.0]\n"
          ]
        }
      ]
    },
    {
      "cell_type": "code",
      "source": [
        "import heapq\n",
        "\n",
        "ratings = [4.9, 4.7, 4.5, 3.8, 4.8]\n",
        "ratings[3] = 4.0\n",
        "heapq.heapify(ratings)\n",
        "print(\"Heapified ratings:\", ratings)"
      ],
      "metadata": {
        "colab": {
          "base_uri": "https://localhost:8080/"
        },
        "id": "kgV58bhq7onB",
        "outputId": "96fb911c-4810-4818-9d89-b965acb2336c"
      },
      "execution_count": null,
      "outputs": [
        {
          "output_type": "stream",
          "name": "stdout",
          "text": [
            "Heapified ratings: [4.0, 4.7, 4.5, 4.9, 4.8]\n"
          ]
        }
      ]
    },
    {
      "cell_type": "code",
      "source": [
        "import networkx as nx\n",
        "\n",
        "G = nx.Graph()\n",
        "G.add_edge('P', 'Q', weight=4)\n",
        "G.add_edge('P', 'S', weight=7)\n",
        "G.add_edge('Q', 'R', weight=2)\n",
        "G.add_edge('Q', 'S', weight=6)\n",
        "G.add_edge('R', 'S', weight=3)\n",
        "\n",
        "mst = nx.minimum_spanning_tree(G, algorithm='prim')\n",
        "print(\"Minimum Spanning Tree edges:\")\n",
        "for u, v, data in mst.edges(data=True):\n",
        "    print(f\"{u} - {v} \\t weight: {data['weight']}\")\n",
        "\n",
        "for u, v, data in mst.edges(data=True):\n",
        "    print(f\"{u} - {v} \\t weight: {data['weight']}\")\n",
        "\n",
        "total_weight = sum(data['weight'] for u, v, data in mst.edges(data=True))\n",
        "print(\"Total weight of MST:\", total_weight)"
      ],
      "metadata": {
        "colab": {
          "base_uri": "https://localhost:8080/"
        },
        "id": "RlgVpt_k7q-K",
        "outputId": "69d25aad-1100-4b0a-e894-e07d73df744f"
      },
      "execution_count": null,
      "outputs": [
        {
          "output_type": "stream",
          "name": "stdout",
          "text": [
            "Minimum Spanning Tree edges:\n",
            "P - Q \t weight: 4\n",
            "Q - R \t weight: 2\n",
            "S - R \t weight: 3\n",
            "P - Q \t weight: 4\n",
            "Q - R \t weight: 2\n",
            "S - R \t weight: 3\n",
            "Total weight of MST: 9\n"
          ]
        }
      ]
    },
    {
      "cell_type": "code",
      "source": [],
      "metadata": {
        "id": "EWdb_6xw8Whw"
      },
      "execution_count": null,
      "outputs": []
    }
  ]
}
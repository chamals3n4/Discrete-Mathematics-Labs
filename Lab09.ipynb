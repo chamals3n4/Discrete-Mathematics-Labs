{
  "nbformat": 4,
  "nbformat_minor": 0,
  "metadata": {
    "colab": {
      "provenance": [],
      "toc_visible": true,
      "authorship_tag": "ABX9TyMgmrjdmgF7rKdxJ4AZ4quU",
      "include_colab_link": true
    },
    "kernelspec": {
      "name": "python3",
      "display_name": "Python 3"
    },
    "language_info": {
      "name": "python"
    }
  },
  "cells": [
    {
      "cell_type": "markdown",
      "metadata": {
        "id": "view-in-github",
        "colab_type": "text"
      },
      "source": [
        "<a href=\"https://colab.research.google.com/github/chamals3n4/Discrete-Mathematics-Labs/blob/main/Lab09.ipynb\" target=\"_parent\"><img src=\"https://colab.research.google.com/assets/colab-badge.svg\" alt=\"Open In Colab\"/></a>"
      ]
    },
    {
      "cell_type": "code",
      "execution_count": 1,
      "metadata": {
        "id": "b9LrKuiSWowU"
      },
      "outputs": [],
      "source": [
        "# Part A"
      ]
    },
    {
      "cell_type": "code",
      "source": [
        "# Que 01\n",
        "def factorial(n):\n",
        "    if n == 0 or n == 1:\n",
        "        return 1\n",
        "    return n * factorial(n - 1)\n",
        "\n",
        "print(factorial(5))"
      ],
      "metadata": {
        "colab": {
          "base_uri": "https://localhost:8080/"
        },
        "id": "fbUqAe7gWsFK",
        "outputId": "68bf93af-dc22-4bd7-c798-9526d39e6a56"
      },
      "execution_count": 3,
      "outputs": [
        {
          "output_type": "stream",
          "name": "stdout",
          "text": [
            "120\n"
          ]
        }
      ]
    },
    {
      "cell_type": "code",
      "source": [
        "# Que 02\n",
        "\n",
        "def sum_of_digits(n):\n",
        "    if n == 0:\n",
        "        return 0\n",
        "    return n % 10 + sum_of_digits(n // 10)\n",
        "\n",
        "print(sum_of_digits(1234))"
      ],
      "metadata": {
        "colab": {
          "base_uri": "https://localhost:8080/"
        },
        "id": "8yiY4FFRWuDP",
        "outputId": "7b014b7a-0bac-404b-8096-31b8c09448b8"
      },
      "execution_count": 5,
      "outputs": [
        {
          "output_type": "stream",
          "name": "stdout",
          "text": [
            "10\n"
          ]
        }
      ]
    },
    {
      "cell_type": "code",
      "source": [
        "# Que 03\n",
        "def is_palindrome(s):\n",
        "    s = s.lower()\n",
        "    if len(s) <= 1:\n",
        "        return True\n",
        "    if s[0] != s[-1]:\n",
        "        return False\n",
        "    return is_palindrome(s[1:-1])\n",
        "\n",
        "print(is_palindrome(\"Madam\"))\n",
        "print(is_palindrome(\"Hello\"))"
      ],
      "metadata": {
        "colab": {
          "base_uri": "https://localhost:8080/"
        },
        "id": "l6CPxbPHW0vY",
        "outputId": "545e8cfa-daff-45a5-d4b0-a6afc3fd0279"
      },
      "execution_count": 6,
      "outputs": [
        {
          "output_type": "stream",
          "name": "stdout",
          "text": [
            "True\n",
            "False\n"
          ]
        }
      ]
    },
    {
      "cell_type": "code",
      "source": [
        "# Que 04\n",
        "def count_vowels(s):\n",
        "    vowels = 'aeiouAEIOU'\n",
        "    if s == \"\":\n",
        "        return 0\n",
        "    return (s[0] in vowels) + count_vowels(s[1:])\n",
        "\n",
        "print(count_vowels(\"recursion\"))"
      ],
      "metadata": {
        "colab": {
          "base_uri": "https://localhost:8080/"
        },
        "id": "Y127J8Y9XTo8",
        "outputId": "59d2f076-8b3f-4b82-d8af-e9269901518c"
      },
      "execution_count": 7,
      "outputs": [
        {
          "output_type": "stream",
          "name": "stdout",
          "text": [
            "4\n"
          ]
        }
      ]
    },
    {
      "cell_type": "code",
      "source": [
        "# Que 05\n",
        "def reverse_list(lst):\n",
        "    if len(lst) == 0:\n",
        "        return []\n",
        "    return [lst[-1]] + reverse_list(lst[:-1])\n",
        "\n",
        "print(reverse_list([1, 2, 3, 4]))"
      ],
      "metadata": {
        "colab": {
          "base_uri": "https://localhost:8080/"
        },
        "id": "RDfe1tb1XWMg",
        "outputId": "fab7bc72-2924-4c51-e49e-38ef7d049c45"
      },
      "execution_count": 8,
      "outputs": [
        {
          "output_type": "stream",
          "name": "stdout",
          "text": [
            "[4, 3, 2, 1]\n"
          ]
        }
      ]
    },
    {
      "cell_type": "code",
      "source": [
        "# Part B"
      ],
      "metadata": {
        "id": "OdlozJFtXZg4"
      },
      "execution_count": 9,
      "outputs": []
    },
    {
      "cell_type": "code",
      "source": [
        "# Que 01\n",
        "def fibonacci(n):\n",
        "    if n == 0:\n",
        "        return 0\n",
        "    elif n == 1:\n",
        "        return 1\n",
        "    return fibonacci(n - 1) + fibonacci(n - 2)\n",
        "\n",
        "print(fibonacci(6))"
      ],
      "metadata": {
        "colab": {
          "base_uri": "https://localhost:8080/"
        },
        "id": "8DIkZeziXkKI",
        "outputId": "b4177f0a-f460-443b-f782-9d719d1d9311"
      },
      "execution_count": 10,
      "outputs": [
        {
          "output_type": "stream",
          "name": "stdout",
          "text": [
            "8\n"
          ]
        }
      ]
    },
    {
      "cell_type": "code",
      "source": [
        "# Que 02\n",
        "def reverse_string(s):\n",
        "    if len(s) == 0:\n",
        "        return s\n",
        "    return reverse_string(s[1:]) + s[0]\n",
        "\n",
        "print(reverse_string(\"hello\"))"
      ],
      "metadata": {
        "colab": {
          "base_uri": "https://localhost:8080/"
        },
        "id": "AW_xahBeXm3j",
        "outputId": "f17b1dca-5431-4d8c-c477-caa7bfa2f76c"
      },
      "execution_count": 11,
      "outputs": [
        {
          "output_type": "stream",
          "name": "stdout",
          "text": [
            "olleh\n"
          ]
        }
      ]
    },
    {
      "cell_type": "code",
      "source": [
        "# Que 03\n",
        "def count_char(s, ch):\n",
        "    if len(s) == 0:\n",
        "        return 0\n",
        "    return (s[0] == ch) + count_char(s[1:], ch)\n",
        "\n",
        "print(count_char(\"hello\", \"l\"))"
      ],
      "metadata": {
        "colab": {
          "base_uri": "https://localhost:8080/"
        },
        "id": "NDg1F1wtXqkJ",
        "outputId": "0633285f-6e7c-43fd-83c4-4bcf5c84857b"
      },
      "execution_count": 12,
      "outputs": [
        {
          "output_type": "stream",
          "name": "stdout",
          "text": [
            "2\n"
          ]
        }
      ]
    },
    {
      "cell_type": "code",
      "source": [
        "# Que 04\n",
        "def sum_list(lst):\n",
        "    if len(lst) == 0:\n",
        "        return 0\n",
        "    return lst[0] + sum_list(lst[1:])\n",
        "\n",
        "print(sum_list([1, 2, 3, 4]))"
      ],
      "metadata": {
        "colab": {
          "base_uri": "https://localhost:8080/"
        },
        "id": "9JB2OV4PXtga",
        "outputId": "2aca598c-4c6d-4477-d7a3-8e41fdfc5425"
      },
      "execution_count": 13,
      "outputs": [
        {
          "output_type": "stream",
          "name": "stdout",
          "text": [
            "10\n"
          ]
        }
      ]
    },
    {
      "cell_type": "code",
      "source": [
        "# Que 05\n",
        "def contains(lst, x):\n",
        "    if len(lst) == 0:\n",
        "        return False\n",
        "    return lst[0] == x or contains(lst[1:], x)\n",
        "\n",
        "print(contains([1, 2, 3, 4], 3))\n",
        "print(contains([1, 2, 3, 4], 5))"
      ],
      "metadata": {
        "colab": {
          "base_uri": "https://localhost:8080/"
        },
        "id": "xiTE3LhzXv9C",
        "outputId": "932f191e-e383-4b05-da89-4e06edff5c93"
      },
      "execution_count": 14,
      "outputs": [
        {
          "output_type": "stream",
          "name": "stdout",
          "text": [
            "True\n",
            "False\n"
          ]
        }
      ]
    },
    {
      "cell_type": "code",
      "source": [
        "# Que 06\n",
        "def count_even(lst):\n",
        "    if len(lst) == 0:\n",
        "        return 0\n",
        "    return (lst[0] % 2 == 0) + count_even(lst[1:])\n",
        "\n",
        "print(count_even([1, 2, 3, 4, 5, 6]))"
      ],
      "metadata": {
        "colab": {
          "base_uri": "https://localhost:8080/"
        },
        "id": "T8OCySuQX0UT",
        "outputId": "0be95b23-31d9-4b0a-b85d-125ff48e8557"
      },
      "execution_count": 15,
      "outputs": [
        {
          "output_type": "stream",
          "name": "stdout",
          "text": [
            "3\n"
          ]
        }
      ]
    },
    {
      "cell_type": "code",
      "source": [
        "# Que 07\n",
        "def gcd(a, b):\n",
        "    if b == 0:\n",
        "        return a\n",
        "    return gcd(b, a % b)\n",
        "\n",
        "print(gcd(48, 18))"
      ],
      "metadata": {
        "colab": {
          "base_uri": "https://localhost:8080/"
        },
        "id": "STlADYDfX3_Z",
        "outputId": "527a950f-683c-4cfa-fa31-90e5e94dc43d"
      },
      "execution_count": 16,
      "outputs": [
        {
          "output_type": "stream",
          "name": "stdout",
          "text": [
            "6\n"
          ]
        }
      ]
    },
    {
      "cell_type": "code",
      "source": [
        "# Que 08\n",
        "def remove_spaces(s):\n",
        "    if len(s) == 0:\n",
        "        return s\n",
        "    if s[0] == ' ':\n",
        "        return remove_spaces(s[1:])\n",
        "    return s[0] + remove_spaces(s[1:])\n",
        "\n",
        "print(remove_spaces(\"hello world\"))"
      ],
      "metadata": {
        "colab": {
          "base_uri": "https://localhost:8080/"
        },
        "id": "l2aPOvTvYAEe",
        "outputId": "69a743c4-8936-4cab-e6ad-45d77b5bf11e"
      },
      "execution_count": 17,
      "outputs": [
        {
          "output_type": "stream",
          "name": "stdout",
          "text": [
            "helloworld\n"
          ]
        }
      ]
    },
    {
      "cell_type": "code",
      "source": [
        "# Que 09\n",
        "def sum_nested(lst):\n",
        "    total = 0\n",
        "    for item in lst:\n",
        "        if isinstance(item, list):\n",
        "            total += sum_nested(item)\n",
        "        else:\n",
        "            total += item\n",
        "    return total\n",
        "\n",
        "print(sum_nested([1, 2, [3, 4, [5]], 6]))"
      ],
      "metadata": {
        "colab": {
          "base_uri": "https://localhost:8080/"
        },
        "id": "Ag-XiukHYCjU",
        "outputId": "f5662458-980f-4113-b997-e7e7545de2e3"
      },
      "execution_count": 18,
      "outputs": [
        {
          "output_type": "stream",
          "name": "stdout",
          "text": [
            "21\n"
          ]
        }
      ]
    },
    {
      "cell_type": "code",
      "source": [
        "# Que 10\n",
        "def find_min(lst):\n",
        "    if len(lst) == 1:\n",
        "        return lst[0]\n",
        "    min_of_rest = find_min(lst[1:])\n",
        "    return lst[0] if lst[0] < min_of_rest else min_of_rest\n",
        "\n",
        "print(find_min([3, 1, 4, 1, 5, 9]))"
      ],
      "metadata": {
        "colab": {
          "base_uri": "https://localhost:8080/"
        },
        "id": "U311Jv3qYFU-",
        "outputId": "a2655b9b-969a-4ae5-9049-a1bc87ef73ed"
      },
      "execution_count": 19,
      "outputs": [
        {
          "output_type": "stream",
          "name": "stdout",
          "text": [
            "1\n"
          ]
        }
      ]
    },
    {
      "cell_type": "code",
      "source": [],
      "metadata": {
        "id": "CLZPbHaNYHq5"
      },
      "execution_count": null,
      "outputs": []
    }
  ]
}